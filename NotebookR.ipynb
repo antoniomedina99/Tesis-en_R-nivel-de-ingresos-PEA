{
 "cells": [
  {
   "cell_type": "markdown",
   "id": "d26b851e-1bb8-404a-bae0-ee952ab8fdda",
   "metadata": {},
   "source": [
    "## Resumen \n",
    "\n",
    "Este trabajo estudia la relación que tiene el nivel de escolaridad sobre el nivel de salarios de la \n",
    "población económicamente activa (PEA) en condición ocupada de Yopal Casanare. Los datos \n",
    "utilizados para el análisis se obtuvieron a través de encuestas dirigidas a la población trabajadora \n",
    "de la zona urbana entre noviembre y diciembre del año 2021. La metodología econométrica \n",
    "incluye la estimación por Mínimos cuadrados ordinarios (MCO) calculada con errores estándares \n",
    "robustos, donde se propone que el nivel educativo incide sobre los salarios de los trabajadores. \n",
    "Se logra determinar que, el nivel educativo es estadísticamente significativo en los salarios de la \n",
    "PEA, en donde, la edad y la experiencia influyen, pero, en menor medida sobre el nivel de \n",
    "ingreso, adicionalmente a esto, existe discriminación salarial por género. \n",
    "Palabras claves \n",
    "Grado de escolaridad, nivel de salarios, población económicamente activa (PEA), \n",
    "econometría.\n",
    "\n",
    "Resumen de variables "
   ]
  },
  {
   "cell_type": "markdown",
   "id": "eef5befc-14f5-48d1-a76b-9998948f9c9d",
   "metadata": {},
   "source": [
    "<div style=\"text-align: center;\">\n",
    "    <img src=\"imagenes/resmen_variables.jpg\" alt=\"Comportamiento de las betas\" style=\"width: 50%; height: auto;\">\n",
    "</div>\n"
   ]
  },
  {
   "cell_type": "markdown",
   "id": "6ac96f9b-35da-40e8-ab4b-e90f772d3fab",
   "metadata": {},
   "source": [
    "Principalmente se tuvieron en cuenta quince variables en la encuesta de las cuales sietefueron elegidas para el estudio dado su nivel de significancia. Cabe mencionar que las preguntas de la encuesta eran de tipo cerrada y otras semi-abierta tipo categóricas.\n",
    "\n",
    "La variable escolaridad $X$ está registrada según el nivel de escolaridad culminado\n",
    "satisfactoriamente, por lo que, no se tuvo en cuenta algún proceso de adelanto de dicha formación, si no, hasta haberlo completado. La variable canal de búsqueda $Q$ se plantea como variable dicótoma, si la persona fue recomendada para su trabajo o no contaba con alguna recomendación. En la variable escolaridad fuera del departamento $F$ se preguntó si alguno de los títulos académicos fue completado fuera del departamento, en este caso Casanare, dado que podría tener alguna incidencia el hecho de haber llevado a cabo estudios fuera de este, puesto que existe mejor reconocimiento y más alto nivel en cuanto a la oferta educacional en otros departamentos."
   ]
  },
  {
   "cell_type": "code",
   "execution_count": 1,
   "id": "6f7574c4-83a1-46e2-ad85-35cbf7a057f4",
   "metadata": {},
   "outputs": [
    {
     "data": {
      "text/html": [
       "<table class=\"dataframe\">\n",
       "<caption>A tibble: 5 × 19</caption>\n",
       "<thead>\n",
       "\t<tr><th scope=col>Obs</th><th scope=col>y</th><th scope=col>y2</th><th scope=col>yln</th><th scope=col>yd</th><th scope=col>q</th><th scope=col>x1</th><th scope=col>x2</th><th scope=col>x3</th><th scope=col>f</th><th scope=col>g</th><th scope=col>w</th><th scope=col>w_2</th><th scope=col>wed</th><th scope=col>son</th><th scope=col>son_2</th><th scope=col>z</th><th scope=col>z_2</th><th scope=col>zln</th></tr>\n",
       "\t<tr><th scope=col>&lt;dbl&gt;</th><th scope=col>&lt;dbl&gt;</th><th scope=col>&lt;dbl&gt;</th><th scope=col>&lt;dbl&gt;</th><th scope=col>&lt;dbl&gt;</th><th scope=col>&lt;dbl&gt;</th><th scope=col>&lt;dbl&gt;</th><th scope=col>&lt;dbl&gt;</th><th scope=col>&lt;dbl&gt;</th><th scope=col>&lt;dbl&gt;</th><th scope=col>&lt;dbl&gt;</th><th scope=col>&lt;dbl&gt;</th><th scope=col>&lt;dbl&gt;</th><th scope=col>&lt;dbl&gt;</th><th scope=col>&lt;dbl&gt;</th><th scope=col>&lt;dbl&gt;</th><th scope=col>&lt;dbl&gt;</th><th scope=col>&lt;dbl&gt;</th><th scope=col>&lt;dbl&gt;</th></tr>\n",
       "</thead>\n",
       "<tbody>\n",
       "\t<tr><td>1</td><td>1500000</td><td>2.25e+12</td><td>14.22098</td><td>1500</td><td>0</td><td>0</td><td>0</td><td>1</td><td>0</td><td>1</td><td>26</td><td> 676</td><td>0</td><td>0</td><td>0</td><td> 2</td><td>  4</td><td>0.6931472</td></tr>\n",
       "\t<tr><td>2</td><td>2300000</td><td>5.29e+12</td><td>14.64842</td><td>2300</td><td>1</td><td>0</td><td>0</td><td>1</td><td>0</td><td>1</td><td>25</td><td> 625</td><td>1</td><td>1</td><td>1</td><td> 8</td><td> 64</td><td>2.0794415</td></tr>\n",
       "\t<tr><td>3</td><td> 300000</td><td>9.00e+10</td><td>12.61154</td><td> 300</td><td>1</td><td>0</td><td>0</td><td>1</td><td>0</td><td>0</td><td>44</td><td>1936</td><td>1</td><td>2</td><td>1</td><td>10</td><td>100</td><td>2.3025851</td></tr>\n",
       "\t<tr><td>4</td><td>2900000</td><td>8.41e+12</td><td>14.88022</td><td>2900</td><td>1</td><td>0</td><td>0</td><td>1</td><td>0</td><td>1</td><td>54</td><td>2916</td><td>1</td><td>1</td><td>1</td><td>28</td><td>784</td><td>3.3322045</td></tr>\n",
       "\t<tr><td>5</td><td>2300000</td><td>5.29e+12</td><td>14.64842</td><td>2300</td><td>1</td><td>1</td><td>0</td><td>0</td><td>0</td><td>0</td><td>63</td><td>3969</td><td>1</td><td>2</td><td>1</td><td>20</td><td>400</td><td>2.9957323</td></tr>\n",
       "</tbody>\n",
       "</table>\n"
      ],
      "text/latex": [
       "A tibble: 5 × 19\n",
       "\\begin{tabular}{lllllllllllllllllll}\n",
       " Obs & y & y2 & yln & yd & q & x1 & x2 & x3 & f & g & w & w\\_2 & wed & son & son\\_2 & z & z\\_2 & zln\\\\\n",
       " <dbl> & <dbl> & <dbl> & <dbl> & <dbl> & <dbl> & <dbl> & <dbl> & <dbl> & <dbl> & <dbl> & <dbl> & <dbl> & <dbl> & <dbl> & <dbl> & <dbl> & <dbl> & <dbl>\\\\\n",
       "\\hline\n",
       "\t 1 & 1500000 & 2.25e+12 & 14.22098 & 1500 & 0 & 0 & 0 & 1 & 0 & 1 & 26 &  676 & 0 & 0 & 0 &  2 &   4 & 0.6931472\\\\\n",
       "\t 2 & 2300000 & 5.29e+12 & 14.64842 & 2300 & 1 & 0 & 0 & 1 & 0 & 1 & 25 &  625 & 1 & 1 & 1 &  8 &  64 & 2.0794415\\\\\n",
       "\t 3 &  300000 & 9.00e+10 & 12.61154 &  300 & 1 & 0 & 0 & 1 & 0 & 0 & 44 & 1936 & 1 & 2 & 1 & 10 & 100 & 2.3025851\\\\\n",
       "\t 4 & 2900000 & 8.41e+12 & 14.88022 & 2900 & 1 & 0 & 0 & 1 & 0 & 1 & 54 & 2916 & 1 & 1 & 1 & 28 & 784 & 3.3322045\\\\\n",
       "\t 5 & 2300000 & 5.29e+12 & 14.64842 & 2300 & 1 & 1 & 0 & 0 & 0 & 0 & 63 & 3969 & 1 & 2 & 1 & 20 & 400 & 2.9957323\\\\\n",
       "\\end{tabular}\n"
      ],
      "text/markdown": [
       "\n",
       "A tibble: 5 × 19\n",
       "\n",
       "| Obs &lt;dbl&gt; | y &lt;dbl&gt; | y2 &lt;dbl&gt; | yln &lt;dbl&gt; | yd &lt;dbl&gt; | q &lt;dbl&gt; | x1 &lt;dbl&gt; | x2 &lt;dbl&gt; | x3 &lt;dbl&gt; | f &lt;dbl&gt; | g &lt;dbl&gt; | w &lt;dbl&gt; | w_2 &lt;dbl&gt; | wed &lt;dbl&gt; | son &lt;dbl&gt; | son_2 &lt;dbl&gt; | z &lt;dbl&gt; | z_2 &lt;dbl&gt; | zln &lt;dbl&gt; |\n",
       "|---|---|---|---|---|---|---|---|---|---|---|---|---|---|---|---|---|---|---|\n",
       "| 1 | 1500000 | 2.25e+12 | 14.22098 | 1500 | 0 | 0 | 0 | 1 | 0 | 1 | 26 |  676 | 0 | 0 | 0 |  2 |   4 | 0.6931472 |\n",
       "| 2 | 2300000 | 5.29e+12 | 14.64842 | 2300 | 1 | 0 | 0 | 1 | 0 | 1 | 25 |  625 | 1 | 1 | 1 |  8 |  64 | 2.0794415 |\n",
       "| 3 |  300000 | 9.00e+10 | 12.61154 |  300 | 1 | 0 | 0 | 1 | 0 | 0 | 44 | 1936 | 1 | 2 | 1 | 10 | 100 | 2.3025851 |\n",
       "| 4 | 2900000 | 8.41e+12 | 14.88022 | 2900 | 1 | 0 | 0 | 1 | 0 | 1 | 54 | 2916 | 1 | 1 | 1 | 28 | 784 | 3.3322045 |\n",
       "| 5 | 2300000 | 5.29e+12 | 14.64842 | 2300 | 1 | 1 | 0 | 0 | 0 | 0 | 63 | 3969 | 1 | 2 | 1 | 20 | 400 | 2.9957323 |\n",
       "\n"
      ],
      "text/plain": [
       "  Obs y       y2       yln      yd   q x1 x2 x3 f g w  w_2  wed son son_2 z \n",
       "1 1   1500000 2.25e+12 14.22098 1500 0 0  0  1  0 1 26  676 0   0   0      2\n",
       "2 2   2300000 5.29e+12 14.64842 2300 1 0  0  1  0 1 25  625 1   1   1      8\n",
       "3 3    300000 9.00e+10 12.61154  300 1 0  0  1  0 0 44 1936 1   2   1     10\n",
       "4 4   2900000 8.41e+12 14.88022 2900 1 0  0  1  0 1 54 2916 1   1   1     28\n",
       "5 5   2300000 5.29e+12 14.64842 2300 1 1  0  0  0 0 63 3969 1   2   1     20\n",
       "  z_2 zln      \n",
       "1   4 0.6931472\n",
       "2  64 2.0794415\n",
       "3 100 2.3025851\n",
       "4 784 3.3322045\n",
       "5 400 2.9957323"
      ]
     },
     "metadata": {},
     "output_type": "display_data"
    }
   ],
   "source": [
    "library(readxl)\n",
    "data <- read_excel(\"datos modelos.xlsx\")\n",
    "head(data, 5)\n"
   ]
  },
  {
   "cell_type": "code",
   "execution_count": 2,
   "id": "bcc3cb81-3f3e-49a8-ba8a-5eed6d39b96c",
   "metadata": {},
   "outputs": [],
   "source": [
    "attach(data) # Attach para mejor manejo de variables"
   ]
  },
  {
   "cell_type": "markdown",
   "id": "9bbc7019-a46b-4f5b-a8a0-e46e59e7ead0",
   "metadata": {},
   "source": [
    "## Determinación del tamaño muestral \n",
    "\n",
    "Los datos fueron obtenidos a través de encuestas mediante el método de muestreo aleatorio simple. El tamaño de muestra fue estimado mediante análisis gráfico del comportamiento asintótico de los parámetros del modelo. La distribución asintótica se emplea para aproximar a la verdadera distribución muestral de una variable aleatoria, proponiendo que la distribución de un estimador consistente tiende a acercarse más en probabilidad al valor verdadero, conforme aumenta el tamaño de la muestra. A continuación, se muestran gráficamente el comportamiento de las betas estimadas según lo anteriormente expuesto, esta parte hace parte del preprosesameinto realizado en el sofware excel para hacer más eficiente el analisis. \n",
    "\n",
    "![](determiacion muestra.jpg)\n",
    "\n",
    "Se puede apreciar, que en la mayoría de las betas $β$ estimadas sus coeficientes se estabilizan alrededor de los 380 datos, conduciendo hacia el valor real. "
   ]
  },
  {
   "cell_type": "code",
   "execution_count": 23,
   "id": "6991e935-871f-4d4f-8479-a9130c092228",
   "metadata": {},
   "outputs": [],
   "source": [
    "##  llamar librerías \n",
    "library(MASS)\n",
    "library(tidyverse)\n",
    "library(ggpubr)\n",
    "library(ggplot2)\n",
    "library(car)\n",
    "library(lmtest)\n",
    "library(sandwich)\n"
   ]
  },
  {
   "cell_type": "markdown",
   "id": "99c09f73-a530-40da-8d7c-a52dc3cbab9e",
   "metadata": {},
   "source": [
    "Estimación de coeficientes del modelo  \n",
    "Para hallar los coeficientes del modelo se utilizó la función $StepAIC$ del paquete $𝑀𝐴𝑆𝑆$, del software estadístico R, por el cual, a través de algoritmos selecciona variables mediante el método hacia adelante y hacia atrás, utilizando la herramienta Akaik Information Criterion. \n",
    "\n",
    "AIC se define como:  \n",
    "\n",
    "$AIC= -2* LogLink+K*  n_(parametros )$\n",
    "\n",
    "Donde 𝐿𝑜𝑔𝐿𝑖𝑛𝑘 corresponde al valor de log de verosimilitud para el vector de los parámetros \n",
    "estimados, $𝑘$ es el valor de penalización dado por el número de parámetros incluidos en el \n",
    "modelo y $𝑛_(𝑝𝑎𝑟𝑎𝑚𝑒𝑡𝑟𝑜𝑠)$ corresponde al número de parámetros comprendidos por el modelo, \n",
    "mayormente conocido como “Schwarz’s Bayesian criterion”. (Freddy Hernández, 2020) \n"
   ]
  },
  {
   "cell_type": "markdown",
   "id": "2cbd2d20-ebc6-4909-b08e-c8a813283856",
   "metadata": {},
   "source": [
    "## Selección de variables"
   ]
  },
  {
   "cell_type": "code",
   "execution_count": 4,
   "id": "f595fb09-4363-4144-90f2-feb99581c3a0",
   "metadata": {},
   "outputs": [
    {
     "data": {
      "text/plain": [
       "\n",
       "Call:\n",
       "lm(formula = yln ~ q + x1 + x2 + x3 + f + g + w + w_2 + wed + \n",
       "    son + son_2 + z + z_2 + zln)\n",
       "\n",
       "Residuals:\n",
       "     Min       1Q   Median       3Q      Max \n",
       "-2.11982 -0.24849  0.01962  0.24739  1.11390 \n",
       "\n",
       "Coefficients: (1 not defined because of singularities)\n",
       "              Estimate Std. Error t value Pr(>|t|)    \n",
       "(Intercept) 13.9396801  0.2511351  55.507  < 2e-16 ***\n",
       "q           -0.1203389  0.0499344  -2.410 0.016433 *  \n",
       "x1          -0.4876933  0.0616568  -7.910 2.89e-14 ***\n",
       "x2          -0.3635238  0.0563911  -6.446 3.51e-10 ***\n",
       "x3                  NA         NA      NA       NA    \n",
       "f            0.2449239  0.0477711   5.127 4.72e-07 ***\n",
       "g            0.1617738  0.0471791   3.429 0.000673 ***\n",
       "w            0.0156728  0.0139003   1.128 0.260241    \n",
       "w_2         -0.0001256  0.0001692  -0.742 0.458415    \n",
       "wed          0.0674705  0.0522956   1.290 0.197781    \n",
       "son          0.0103245  0.0306804   0.337 0.736669    \n",
       "son_2        0.0289828  0.0723920   0.400 0.689119    \n",
       "z            0.0173593  0.0135435   1.282 0.200721    \n",
       "z_2         -0.0002768  0.0003055  -0.906 0.365486    \n",
       "zln          0.0032498  0.0364964   0.089 0.929093    \n",
       "---\n",
       "Signif. codes:  0 '***' 0.001 '**' 0.01 '*' 0.05 '.' 0.1 ' ' 1\n",
       "\n",
       "Residual standard error: 0.4358 on 377 degrees of freedom\n",
       "Multiple R-squared:  0.4431,\tAdjusted R-squared:  0.4239 \n",
       "F-statistic: 23.07 on 13 and 377 DF,  p-value: < 2.2e-16\n"
      ]
     },
     "metadata": {},
     "output_type": "display_data"
    },
    {
     "name": "stdout",
     "output_type": "stream",
     "text": [
      "Start:  AIC=-635.84\n",
      "yln ~ q + x1 + x2 + x3 + f + g + w + w_2 + wed + son + son_2 + \n",
      "    z + z_2 + zln\n",
      "\n",
      "\n",
      "Step:  AIC=-635.84\n",
      "yln ~ q + x1 + x2 + f + g + w + w_2 + wed + son + son_2 + z + \n",
      "    z_2 + zln\n",
      "\n",
      "        Df Sum of Sq    RSS     AIC\n",
      "- zln    1    0.0015 71.587 -637.83\n",
      "- son    1    0.0215 71.607 -637.73\n",
      "- son_2  1    0.0304 71.616 -637.68\n",
      "- w_2    1    0.1046 71.691 -637.27\n",
      "- z_2    1    0.1559 71.742 -636.99\n",
      "- w      1    0.2414 71.827 -636.53\n",
      "- z      1    0.3120 71.898 -636.14\n",
      "- wed    1    0.3161 71.902 -636.12\n",
      "<none>               71.586 -635.84\n",
      "- q      1    1.1028 72.689 -631.87\n",
      "- g      1    2.2326 73.819 -625.84\n",
      "- f      1    4.9914 76.577 -611.49\n",
      "- x2     1    7.8910 79.477 -596.96\n",
      "- x1     1   11.8800 83.466 -577.81\n",
      "\n",
      "Step:  AIC=-637.83\n",
      "yln ~ q + x1 + x2 + f + g + w + w_2 + wed + son + son_2 + z + \n",
      "    z_2\n",
      "\n",
      "        Df Sum of Sq    RSS     AIC\n",
      "- son    1    0.0223 71.610 -639.71\n",
      "- son_2  1    0.0304 71.618 -639.67\n",
      "- w_2    1    0.1059 71.693 -639.26\n",
      "- w      1    0.2428 71.830 -638.51\n",
      "- z_2    1    0.2826 71.870 -638.29\n",
      "- wed    1    0.3188 71.906 -638.10\n",
      "<none>               71.587 -637.83\n",
      "+ zln    1    0.0015 71.586 -635.84\n",
      "- z      1    0.8484 72.436 -635.23\n",
      "- q      1    1.1046 72.692 -633.85\n",
      "- g      1    2.2580 73.845 -627.69\n",
      "- f      1    4.9929 76.580 -613.47\n",
      "- x2     1    7.8977 79.485 -598.92\n",
      "- x1     1   11.9514 83.539 -579.47\n",
      "\n",
      "Step:  AIC=-639.71\n",
      "yln ~ q + x1 + x2 + f + g + w + w_2 + wed + son_2 + z + z_2\n",
      "\n",
      "        Df Sum of Sq    RSS     AIC\n",
      "- w_2    1    0.1068 71.717 -641.13\n",
      "- son_2  1    0.1085 71.718 -641.12\n",
      "- w      1    0.2561 71.866 -640.32\n",
      "- z_2    1    0.2640 71.874 -640.27\n",
      "- wed    1    0.3287 71.939 -639.92\n",
      "<none>               71.610 -639.71\n",
      "+ son    1    0.0223 71.587 -637.83\n",
      "+ zln    1    0.0023 71.607 -637.73\n",
      "- z      1    0.8307 72.441 -637.20\n",
      "- q      1    1.1092 72.719 -635.70\n",
      "- g      1    2.2680 73.878 -629.52\n",
      "- f      1    4.9861 76.596 -615.39\n",
      "- x2     1    7.9720 79.582 -600.44\n",
      "- x1     1   11.9963 83.606 -581.15\n",
      "\n",
      "Step:  AIC=-641.13\n",
      "yln ~ q + x1 + x2 + f + g + w + wed + son_2 + z + z_2\n",
      "\n",
      "        Df Sum of Sq    RSS     AIC\n",
      "- son_2  1    0.1636 71.880 -642.24\n",
      "<none>               71.717 -641.13\n",
      "- wed    1    0.3925 72.109 -641.00\n",
      "- z_2    1    0.4807 72.197 -640.52\n",
      "- w      1    0.6232 72.340 -639.75\n",
      "+ w_2    1    0.1068 71.610 -639.71\n",
      "+ son    1    0.0233 71.693 -639.26\n",
      "+ zln    1    0.0039 71.713 -639.15\n",
      "- z      1    1.1011 72.818 -637.17\n",
      "- q      1    1.1784 72.895 -636.76\n",
      "- g      1    2.3385 74.055 -630.58\n",
      "- f      1    5.1234 76.840 -616.15\n",
      "- x2     1    8.2542 79.971 -600.53\n",
      "- x1     1   13.2681 84.985 -576.76\n",
      "\n",
      "Step:  AIC=-642.24\n",
      "yln ~ q + x1 + x2 + f + g + w + wed + z + z_2\n",
      "\n",
      "        Df Sum of Sq    RSS     AIC\n",
      "<none>               71.880 -642.24\n",
      "- z_2    1    0.5715 72.452 -641.14\n",
      "+ son_2  1    0.1636 71.717 -641.13\n",
      "+ w_2    1    0.1620 71.718 -641.12\n",
      "- wed    1    0.5939 72.474 -641.02\n",
      "+ son    1    0.1347 71.746 -640.97\n",
      "+ zln    1    0.0072 71.873 -640.28\n",
      "- w      1    1.0004 72.881 -638.83\n",
      "- z      1    1.2071 73.087 -637.73\n",
      "- q      1    1.2726 73.153 -637.38\n",
      "- g      1    2.2200 74.100 -632.35\n",
      "- f      1    5.2002 77.081 -616.93\n",
      "- x2     1    8.1884 80.069 -602.06\n",
      "- x1     1   13.1887 85.069 -578.37\n"
     ]
    },
    {
     "data": {
      "text/plain": [
       "\n",
       "Call:\n",
       "lm(formula = yln ~ q + x1 + x2 + f + g + w + wed + z + z_2)\n",
       "\n",
       "Residuals:\n",
       "     Min       1Q   Median       3Q      Max \n",
       "-2.13814 -0.24866  0.00905  0.24986  1.12252 \n",
       "\n",
       "Coefficients:\n",
       "              Estimate Std. Error t value Pr(>|t|)    \n",
       "(Intercept) 14.0867748  0.1013697 138.964  < 2e-16 ***\n",
       "q           -0.1281943  0.0493594  -2.597 0.009764 ** \n",
       "x1          -0.4946206  0.0591580  -8.361 1.18e-15 ***\n",
       "x2          -0.3631718  0.0551258  -6.588 1.48e-10 ***\n",
       "f            0.2472526  0.0470948   5.250 2.53e-07 ***\n",
       "g            0.1591214  0.0463866   3.430 0.000669 ***\n",
       "w            0.0070964  0.0030817   2.303 0.021829 *  \n",
       "wed          0.0876550  0.0494022   1.774 0.076810 .  \n",
       "z            0.0206949  0.0081814   2.530 0.011825 *  \n",
       "z_2         -0.0003760  0.0002161  -1.741 0.082571 .  \n",
       "---\n",
       "Signif. codes:  0 '***' 0.001 '**' 0.01 '*' 0.05 '.' 0.1 ' ' 1\n",
       "\n",
       "Residual standard error: 0.4344 on 381 degrees of freedom\n",
       "Multiple R-squared:  0.4408,\tAdjusted R-squared:  0.4276 \n",
       "F-statistic: 33.37 on 9 and 381 DF,  p-value: < 2.2e-16\n"
      ]
     },
     "metadata": {},
     "output_type": "display_data"
    }
   ],
   "source": [
    "model= lm(yln~q+x1+x2+x3+f+g+w+w_2+wed+son+son_2+z+z_2+zln)\n",
    "summary(model) \n",
    "seleccion_1=stepAIC(model,direction = c(\"both\"))\n",
    "summary(seleccion_1)"
   ]
  },
  {
   "cell_type": "markdown",
   "id": "28c0fd85-f4e9-4e51-8aba-e18a715aef58",
   "metadata": {},
   "source": [
    "se corre el primer modelo para ver cuales variables resultan siginicativas "
   ]
  },
  {
   "cell_type": "code",
   "execution_count": 5,
   "id": "b76e4406-955b-4c78-9de1-14cd8e4e7989",
   "metadata": {},
   "outputs": [
    {
     "data": {
      "text/plain": [
       "\n",
       "Call:\n",
       "lm(formula = yln ~ q + x1 + x2 + f + g + w + wed + z + z_2)\n",
       "\n",
       "Residuals:\n",
       "     Min       1Q   Median       3Q      Max \n",
       "-2.13814 -0.24866  0.00905  0.24986  1.12252 \n",
       "\n",
       "Coefficients:\n",
       "              Estimate Std. Error t value Pr(>|t|)    \n",
       "(Intercept) 14.0867748  0.1013697 138.964  < 2e-16 ***\n",
       "q           -0.1281943  0.0493594  -2.597 0.009764 ** \n",
       "x1          -0.4946206  0.0591580  -8.361 1.18e-15 ***\n",
       "x2          -0.3631718  0.0551258  -6.588 1.48e-10 ***\n",
       "f            0.2472526  0.0470948   5.250 2.53e-07 ***\n",
       "g            0.1591214  0.0463866   3.430 0.000669 ***\n",
       "w            0.0070964  0.0030817   2.303 0.021829 *  \n",
       "wed          0.0876550  0.0494022   1.774 0.076810 .  \n",
       "z            0.0206949  0.0081814   2.530 0.011825 *  \n",
       "z_2         -0.0003760  0.0002161  -1.741 0.082571 .  \n",
       "---\n",
       "Signif. codes:  0 '***' 0.001 '**' 0.01 '*' 0.05 '.' 0.1 ' ' 1\n",
       "\n",
       "Residual standard error: 0.4344 on 381 degrees of freedom\n",
       "Multiple R-squared:  0.4408,\tAdjusted R-squared:  0.4276 \n",
       "F-statistic: 33.37 on 9 and 381 DF,  p-value: < 2.2e-16\n"
      ]
     },
     "metadata": {},
     "output_type": "display_data"
    }
   ],
   "source": [
    "model_2 =lm(yln ~ q + x1 + x2 + f + g + w + wed + z + z_2)\n",
    "summary(model_2)"
   ]
  },
  {
   "cell_type": "markdown",
   "id": "c8041ab3-7b24-4536-88df-0d6afc613550",
   "metadata": {},
   "source": [
    "# Modelo más eficiente"
   ]
  },
  {
   "cell_type": "code",
   "execution_count": 6,
   "id": "540d76b4-7375-419a-96ae-878e585cf060",
   "metadata": {},
   "outputs": [
    {
     "data": {
      "text/plain": [
       "\n",
       "Call:\n",
       "lm(formula = yln ~ q + x1 + x2 + f + g + w + wed + z + z_2)\n",
       "\n",
       "Residuals:\n",
       "     Min       1Q   Median       3Q      Max \n",
       "-2.13814 -0.24866  0.00905  0.24986  1.12252 \n",
       "\n",
       "Coefficients:\n",
       "              Estimate Std. Error t value Pr(>|t|)    \n",
       "(Intercept) 14.0867748  0.1013697 138.964  < 2e-16 ***\n",
       "q           -0.1281943  0.0493594  -2.597 0.009764 ** \n",
       "x1          -0.4946206  0.0591580  -8.361 1.18e-15 ***\n",
       "x2          -0.3631718  0.0551258  -6.588 1.48e-10 ***\n",
       "f            0.2472526  0.0470948   5.250 2.53e-07 ***\n",
       "g            0.1591214  0.0463866   3.430 0.000669 ***\n",
       "w            0.0070964  0.0030817   2.303 0.021829 *  \n",
       "wed          0.0876550  0.0494022   1.774 0.076810 .  \n",
       "z            0.0206949  0.0081814   2.530 0.011825 *  \n",
       "z_2         -0.0003760  0.0002161  -1.741 0.082571 .  \n",
       "---\n",
       "Signif. codes:  0 '***' 0.001 '**' 0.01 '*' 0.05 '.' 0.1 ' ' 1\n",
       "\n",
       "Residual standard error: 0.4344 on 381 degrees of freedom\n",
       "Multiple R-squared:  0.4408,\tAdjusted R-squared:  0.4276 \n",
       "F-statistic: 33.37 on 9 and 381 DF,  p-value: < 2.2e-16\n"
      ]
     },
     "metadata": {},
     "output_type": "display_data"
    }
   ],
   "source": [
    "model_2 =lm(yln ~ q + x1 + x2 + f + g + w + wed + z + z_2)\n",
    "summary(model_2)"
   ]
  },
  {
   "cell_type": "markdown",
   "id": "672982ac-884a-4026-a68d-e11f479d5ff2",
   "metadata": {},
   "source": [
    "### Modelo excluyendo variables no significativas\n",
    "A continuación se eliminan las variables que no resultan relevantes para el modelo, teniendo en cuanta su bondad de ajuste y significancia o ‘P_value’"
   ]
  },
  {
   "cell_type": "code",
   "execution_count": 7,
   "id": "1e31af54-a697-4d2a-afc5-5712879f775a",
   "metadata": {},
   "outputs": [
    {
     "data": {
      "text/plain": [
       "\n",
       "Call:\n",
       "lm(formula = yln ~ q + f + x1 + x2 + g + w + z)\n",
       "\n",
       "Residuals:\n",
       "     Min       1Q   Median       3Q      Max \n",
       "-2.09696 -0.24723 -0.00353  0.23356  1.10842 \n",
       "\n",
       "Coefficients:\n",
       "             Estimate Std. Error t value Pr(>|t|)    \n",
       "(Intercept) 14.106159   0.100159 140.838  < 2e-16 ***\n",
       "q           -0.125725   0.049610  -2.534 0.011666 *  \n",
       "f            0.249085   0.047328   5.263 2.37e-07 ***\n",
       "x1          -0.517640   0.058333  -8.874  < 2e-16 ***\n",
       "x2          -0.371533   0.055190  -6.732 6.14e-11 ***\n",
       "g            0.155655   0.046656   3.336 0.000932 ***\n",
       "w            0.009168   0.002976   3.081 0.002212 ** \n",
       "z            0.008072   0.003865   2.088 0.037419 *  \n",
       "---\n",
       "Signif. codes:  0 '***' 0.001 '**' 0.01 '*' 0.05 '.' 0.1 ' ' 1\n",
       "\n",
       "Residual standard error: 0.4371 on 383 degrees of freedom\n",
       "Multiple R-squared:  0.4308,\tAdjusted R-squared:  0.4204 \n",
       "F-statistic: 41.41 on 7 and 383 DF,  p-value: < 2.2e-16\n"
      ]
     },
     "metadata": {},
     "output_type": "display_data"
    }
   ],
   "source": [
    "model_3 =lm(yln ~ q + f + x1 + x2 + g + w + z)\n",
    "summary(model_3)"
   ]
  },
  {
   "cell_type": "markdown",
   "id": "1063c2e7-0153-4277-84be-7df1801ec0ab",
   "metadata": {},
   "source": [
    "## Intervalos de confianza"
   ]
  },
  {
   "cell_type": "code",
   "execution_count": 8,
   "id": "165ac01a-4168-4188-9733-a4cdfde74940",
   "metadata": {},
   "outputs": [
    {
     "data": {
      "text/html": [
       "<table class=\"dataframe\">\n",
       "<caption>A matrix: 8 × 2 of type dbl</caption>\n",
       "<thead>\n",
       "\t<tr><th></th><th scope=col>2.5 %</th><th scope=col>97.5 %</th></tr>\n",
       "</thead>\n",
       "<tbody>\n",
       "\t<tr><th scope=row>(Intercept)</th><td>13.9092289432</td><td>14.30308829</td></tr>\n",
       "\t<tr><th scope=row>q</th><td>-0.2232664986</td><td>-0.02818313</td></tr>\n",
       "\t<tr><th scope=row>f</th><td> 0.1560302711</td><td> 0.34213890</td></tr>\n",
       "\t<tr><th scope=row>x1</th><td>-0.6323323917</td><td>-0.40294663</td></tr>\n",
       "\t<tr><th scope=row>x2</th><td>-0.4800460295</td><td>-0.26301992</td></tr>\n",
       "\t<tr><th scope=row>g</th><td> 0.0639211437</td><td> 0.24738857</td></tr>\n",
       "\t<tr><th scope=row>w</th><td> 0.0033173732</td><td> 0.01501815</td></tr>\n",
       "\t<tr><th scope=row>z</th><td> 0.0004725449</td><td> 0.01567233</td></tr>\n",
       "</tbody>\n",
       "</table>\n"
      ],
      "text/latex": [
       "A matrix: 8 × 2 of type dbl\n",
       "\\begin{tabular}{r|ll}\n",
       "  & 2.5 \\% & 97.5 \\%\\\\\n",
       "\\hline\n",
       "\t(Intercept) & 13.9092289432 & 14.30308829\\\\\n",
       "\tq & -0.2232664986 & -0.02818313\\\\\n",
       "\tf &  0.1560302711 &  0.34213890\\\\\n",
       "\tx1 & -0.6323323917 & -0.40294663\\\\\n",
       "\tx2 & -0.4800460295 & -0.26301992\\\\\n",
       "\tg &  0.0639211437 &  0.24738857\\\\\n",
       "\tw &  0.0033173732 &  0.01501815\\\\\n",
       "\tz &  0.0004725449 &  0.01567233\\\\\n",
       "\\end{tabular}\n"
      ],
      "text/markdown": [
       "\n",
       "A matrix: 8 × 2 of type dbl\n",
       "\n",
       "| <!--/--> | 2.5 % | 97.5 % |\n",
       "|---|---|---|\n",
       "| (Intercept) | 13.9092289432 | 14.30308829 |\n",
       "| q | -0.2232664986 | -0.02818313 |\n",
       "| f |  0.1560302711 |  0.34213890 |\n",
       "| x1 | -0.6323323917 | -0.40294663 |\n",
       "| x2 | -0.4800460295 | -0.26301992 |\n",
       "| g |  0.0639211437 |  0.24738857 |\n",
       "| w |  0.0033173732 |  0.01501815 |\n",
       "| z |  0.0004725449 |  0.01567233 |\n",
       "\n"
      ],
      "text/plain": [
       "            2.5 %         97.5 %     \n",
       "(Intercept) 13.9092289432 14.30308829\n",
       "q           -0.2232664986 -0.02818313\n",
       "f            0.1560302711  0.34213890\n",
       "x1          -0.6323323917 -0.40294663\n",
       "x2          -0.4800460295 -0.26301992\n",
       "g            0.0639211437  0.24738857\n",
       "w            0.0033173732  0.01501815\n",
       "z            0.0004725449  0.01567233"
      ]
     },
     "metadata": {},
     "output_type": "display_data"
    }
   ],
   "source": [
    "confint(model_3)"
   ]
  },
  {
   "cell_type": "markdown",
   "id": "67f0cb62-0630-48e9-8f84-ea55ba68ac56",
   "metadata": {},
   "source": [
    "En las anteriores tablas se muestra el coeficiente logarítmico de las variables, las cuales explican el fenómeno estudiado en este trabajo, el cual intenta desvelar los factores que inciden en el ingreso de la PEA ocupada del área urbana de Yopal Casanare.  \n",
    "Como se puede apreciar, todos los coeficientes presentan significancia indicando que,impactan directamente al ingreso de la población estudiada y a su vez se puede apreciar que no todos los valores de los coeficientes tienen signo positivo, por lo tanto, se puede concluir que no todas las variables incluidas en el estudio aumentan la posibilidad de elevar el nivel de ingreso. \n",
    "De igual forma se puede apreciar, tanto significancia estadística individual como conjunta, apreciando los intervalos de confianza, los cuales presentan rangos normales y de la misma forma todos los estimadores presentan coeficientes congruentes con los intervalos, siendo estos significativos, por lo cual se incluyen todas las variables en el modelo. \n",
    "\n",
    "\n",
    "# Supuetos del modelo \n",
    "\n",
    "A fin de evaluarla fiabilidad del modelo se contrastan los siguientes supuestos  \n"
   ]
  },
  {
   "cell_type": "markdown",
   "id": "9601c555-fd80-4313-9c01-92900a050066",
   "metadata": {},
   "source": [
    "## Supuesto de Linealidad"
   ]
  },
  {
   "cell_type": "code",
   "execution_count": 9,
   "id": "53f2d567-2fe9-4dd9-8d34-2e127d25466a",
   "metadata": {},
   "outputs": [
    {
     "name": "stderr",
     "output_type": "stream",
     "text": [
      "\u001b[1m\u001b[22m`geom_smooth()` using formula = 'y ~ x'\n",
      "\u001b[1m\u001b[22m`geom_smooth()` using formula = 'y ~ x'\n",
      "\u001b[1m\u001b[22m`geom_smooth()` using formula = 'y ~ x'\n",
      "\u001b[1m\u001b[22m`geom_smooth()` using formula = 'y ~ x'\n",
      "\u001b[1m\u001b[22m`geom_smooth()` using formula = 'y ~ x'\n",
      "\u001b[1m\u001b[22m`geom_smooth()` using formula = 'y ~ x'\n",
      "\u001b[1m\u001b[22m`geom_smooth()` using formula = 'y ~ x'\n",
      "\u001b[1m\u001b[22m`geom_smooth()` using formula = 'y ~ x'\n",
      "\u001b[1m\u001b[22m`geom_smooth()` using formula = 'y ~ x'\n",
      "\u001b[1m\u001b[22m`geom_smooth()` using formula = 'y ~ x'\n",
      "\u001b[1m\u001b[22m`geom_smooth()` using formula = 'y ~ x'\n",
      "\u001b[1m\u001b[22m`geom_smooth()` using formula = 'y ~ x'\n",
      "\u001b[1m\u001b[22m`geom_smooth()` using formula = 'y ~ x'\n",
      "\u001b[1m\u001b[22m`geom_smooth()` using formula = 'y ~ x'\n"
     ]
    },
    {
     "data": {
      "image/png": "[encoded data removed]",
      "text/plain": [
       "plot without title"
      ]
     },
     "metadata": {
      "image/png": {
       "height": 420,
       "width": 420
      }
     },
     "output_type": "display_data"
    }
   ],
   "source": [
    "Grafica_x1 <- ggplot(data= data, aes(x = yln, y= x1))+ geom_point()+\n",
    "  geom_smooth(method = \"lm\", se = FALSE, color = \"red\", linetype = \"solid\")+ \n",
    "  geom_smooth(method = \"loess\", se= FALSE, color= \"gray20\", linetype= \"dashed\")\n",
    "\n",
    "Grafica_x2 <- ggplot(data= data, aes(x = yln, y= x2))+ geom_point()+\n",
    "  geom_smooth(method = \"lm\", se = FALSE, color = \"red\", linetype = \"solid\")+ \n",
    "  geom_smooth(method = \"loess\", se= FALSE, color= \"gray20\", linetype= \"dashed\")\n",
    "\n",
    "Grafica_x3 <- ggplot(data= data, aes(x = yln, y= x3))+ geom_point()+\n",
    "  geom_smooth(method = \"lm\", se = FALSE, color = \"red\", linetype = \"solid\")+ \n",
    "  geom_smooth(method = \"loess\", se= FALSE, color= \"gray20\", linetype= \"dashed\")\n",
    "\n",
    "Grafica_q <- ggplot(data= data, aes(x = yln, y= q))+ geom_point()+\n",
    "  geom_smooth(method = \"lm\", se = FALSE, color = \"red\", linetype = \"solid\")+ \n",
    "  geom_smooth(method = \"loess\", se= FALSE, color= \"gray20\", linetype= \"dashed\")\n",
    "\n",
    "Grafica_f <- ggplot(data= data, aes(x = yln, y= f))+ geom_point()+\n",
    "  geom_smooth(method = \"lm\", se = FALSE, color = \"red\", linetype = \"solid\")+ \n",
    "  geom_smooth(method = \"loess\", se= FALSE, color= \"gray20\", linetype= \"dashed\")\n",
    "\n",
    "Grafica_g <- ggplot(data= data, aes(x = yln, y= g))+ geom_point()+\n",
    "  geom_smooth(method = \"lm\", se = FALSE, color = \"red\", linetype = \"solid\")+ \n",
    "  geom_smooth(method = \"loess\", se= FALSE, color= \"gray20\", linetype= \"dashed\")\n",
    "\n",
    "########### variables numéricas ############\n",
    "Grafica_z <- ggplot(data= data, aes(x = yln, y= z))+ geom_point()+\n",
    "  geom_smooth(method = \"lm\", se = FALSE, color = \"red\", linetype = \"solid\")+ \n",
    "  geom_smooth(method = \"loess\", se= FALSE, color= \"gray20\", linetype= \"dashed\")\n",
    "\n",
    "Grafica_w <- ggplot(data= data, aes(x = yln, y= w))+ geom_point()+\n",
    "  geom_smooth(method = \"lm\", se = FALSE, color = \"red\", linetype = \"solid\")+ \n",
    "  geom_smooth(method = \"loess\", se= FALSE, color= \"gray20\", linetype= \"dashed\")\n",
    "\n",
    "################### plot gráficas de normalidad ###################\n",
    "ggarrange(Grafica_q, Grafica_z, Grafica_g, Grafica_f, Grafica_x1, Grafica_x2,\n",
    "          Grafica_x3, ncol = 3, nrow = 3)"
   ]
  },
  {
   "cell_type": "markdown",
   "id": "5a4b82f1-a7d6-4c78-8efe-5a7d6a52df41",
   "metadata": {},
   "source": [
    "Al ser calculado por mínimos cuadrados ordinarios $MCO$ se asume que existe linealidad en \n",
    "los parámetros según (Damodar N & Dawn C, 2010). Se presenta la linealidad cuando la \n",
    "speranza condicional de $𝑌, 𝐸(𝑌/𝑋𝑖)$, es una función lineal en los parámetros.  \n",
    "Asumiendo el supuesto anterior, mediante el diagrama de dispersión, podemos observar la \n",
    "linealidad de las variables explicativas o independientes, respecto a la dependiente “logaritmo \n",
    "del ingreso”, cumpliendo el supuesto de linealidad en su conjunto. \n",
    "\n",
    "## Normalidad \n",
    "Para la verificación del supuesto de normalidad se hizo uso del gráfico de Normal Q-Q Plot \n",
    "regresión respecto a los residuos del modelo estimado. "
   ]
  },
  {
   "cell_type": "code",
   "execution_count": 10,
   "id": "03e2c338-1c0b-4cb5-a1b1-3535da1a8f8b",
   "metadata": {},
   "outputs": [],
   "source": [
    "# distribution of studentized residuals\n",
    "\n",
    "resid <- studres(model_3)"
   ]
  },
  {
   "cell_type": "markdown",
   "id": "6f15ccf8-a70a-4fb3-9616-233f8fbcd86a",
   "metadata": {},
   "source": [
    "### Imagen normalidad Q-Q Plot."
   ]
  },
  {
   "cell_type": "code",
   "execution_count": 11,
   "id": "89eaace0-045d-4256-815d-d29abb2527b2",
   "metadata": {},
   "outputs": [
    {
     "data": {
      "image/png": "[encoded data removed]",
      "text/plain": [
       "Plot with title \"Normal Q-Q Plot\""
      ]
     },
     "metadata": {
      "image/png": {
       "height": 420,
       "width": 420
      }
     },
     "output_type": "display_data"
    }
   ],
   "source": [
    "qqnorm(resid)\n",
    "qqline(resid)"
   ]
  },
  {
   "cell_type": "markdown",
   "id": "2ca3e887-8996-432a-a118-613b2fe1ffb6",
   "metadata": {},
   "source": [
    "Se puede apreciar que los puntos se encuentran junto a la línea de normalidad, no obstante,algunos puntos se encuentran ligeramente alejados de la diagonal, por lo cual no se puede apreciar claramente si el supuesto de normalidad se cumple, a continuación, dispondrá evaluar el supuesto mediante la gráfica de distribución normal Gaussiana."
   ]
  },
  {
   "cell_type": "code",
   "execution_count": 12,
   "id": "8335de2e-1bae-4ee3-bbb0-a3adfb53be48",
   "metadata": {},
   "outputs": [
    {
     "data": {
      "image/png": "[encoded data removed]",
      "text/plain": [
       "plot without title"
      ]
     },
     "metadata": {
      "image/png": {
       "height": 420,
       "width": 420
      }
     },
     "output_type": "display_data"
    }
   ],
   "source": [
    "ggplot(data,aes(resid))+geom_density()"
   ]
  },
  {
   "cell_type": "markdown",
   "id": "2706083c-d94e-408e-bf58-0c599fd1adfb",
   "metadata": {},
   "source": [
    "En el gráfico de normalidad, se puede puede observar una distribución con tendencia \n",
    "leptocúrtica, no obstante, según (Beaver et al., 2006), el teorema de límite central se puede expresar como ∑𝑥𝑖, que, cuando 𝑛 se hace grande, también tiene una distribución aproximadamente normal con media 𝑛 𝜇 y desviación estándar 𝛿√𝑛.  En este sentido, la conclusión se basa en el teorema de límite central y dar por cumplido el supuesto de normalidad en el modelo.   "
   ]
  },
  {
   "cell_type": "markdown",
   "id": "153fe818-97bb-45ac-a723-eede20d04f62",
   "metadata": {},
   "source": [
    "## multicolinealidad"
   ]
  },
  {
   "cell_type": "markdown",
   "id": "7e580fa9-857c-4e6c-acac-11f515ca52ba",
   "metadata": {},
   "source": [
    "$$\n",
    "\\frac {R^2 (Cov_{x2_x3...xn})^2}     {Var_{x2 *VAr_x3}... Var_{xn}}\n",
    "$$"
   ]
  },
  {
   "cell_type": "code",
   "execution_count": 13,
   "id": "e9f6c1df-7dc7-410f-bf03-86880e9c2dea",
   "metadata": {},
   "outputs": [
    {
     "data": {
      "text/html": [
       "<style>\n",
       ".dl-inline {width: auto; margin:0; padding: 0}\n",
       ".dl-inline>dt, .dl-inline>dd {float: none; width: auto; display: inline-block}\n",
       ".dl-inline>dt::after {content: \":\\0020\"; padding-right: .5ex}\n",
       ".dl-inline>dt:not(:first-of-type) {padding-left: .5ex}\n",
       "</style><dl class=dl-inline><dt>q</dt><dd>1.05628468597241</dd><dt>f</dt><dd>1.10395177424491</dd><dt>x1</dt><dd>1.48145170064249</dd><dt>x2</dt><dd>1.4703802152848</dd><dt>g</dt><dd>1.09178255161356</dd><dt>w</dt><dd>2.39647969438181</dd><dt>z</dt><dd>2.36020401355494</dd></dl>\n"
      ],
      "text/latex": [
       "\\begin{description*}\n",
       "\\item[q] 1.05628468597241\n",
       "\\item[f] 1.10395177424491\n",
       "\\item[x1] 1.48145170064249\n",
       "\\item[x2] 1.4703802152848\n",
       "\\item[g] 1.09178255161356\n",
       "\\item[w] 2.39647969438181\n",
       "\\item[z] 2.36020401355494\n",
       "\\end{description*}\n"
      ],
      "text/markdown": [
       "q\n",
       ":   1.05628468597241f\n",
       ":   1.10395177424491x1\n",
       ":   1.48145170064249x2\n",
       ":   1.4703802152848g\n",
       ":   1.09178255161356w\n",
       ":   2.39647969438181z\n",
       ":   2.36020401355494\n",
       "\n"
      ],
      "text/plain": [
       "       q        f       x1       x2        g        w        z \n",
       "1.056285 1.103952 1.481452 1.470380 1.091783 2.396480 2.360204 "
      ]
     },
     "metadata": {},
     "output_type": "display_data"
    }
   ],
   "source": [
    "##inflación de varianza\n",
    "vif(model_3)"
   ]
  },
  {
   "cell_type": "markdown",
   "id": "aa25fcdf-d519-4259-bf3c-57aa37650d74",
   "metadata": {},
   "source": [
    "Como se puede apreciar en la matriz factor de inflación de la varianza, los valores están por debajo de 10, por lo cual, se puede descartar en el modelo la presencia de multicolinealidad. \n",
    "\n",
    "### Coeficientes de Correlación entre variables numericas"
   ]
  },
  {
   "cell_type": "code",
   "execution_count": 14,
   "id": "c58c7ee9-c5c2-4850-8da8-d54210cf8c09",
   "metadata": {},
   "outputs": [
    {
     "data": {
      "text/html": [
       "<table class=\"dataframe\">\n",
       "<caption>A matrix: 2 × 2 of type dbl</caption>\n",
       "<thead>\n",
       "\t<tr><th></th><th scope=col>w</th><th scope=col>z</th></tr>\n",
       "</thead>\n",
       "<tbody>\n",
       "\t<tr><th scope=row>w</th><td>1.0000000</td><td>0.7479985</td></tr>\n",
       "\t<tr><th scope=row>z</th><td>0.7479985</td><td>1.0000000</td></tr>\n",
       "</tbody>\n",
       "</table>\n"
      ],
      "text/latex": [
       "A matrix: 2 × 2 of type dbl\n",
       "\\begin{tabular}{r|ll}\n",
       "  & w & z\\\\\n",
       "\\hline\n",
       "\tw & 1.0000000 & 0.7479985\\\\\n",
       "\tz & 0.7479985 & 1.0000000\\\\\n",
       "\\end{tabular}\n"
      ],
      "text/markdown": [
       "\n",
       "A matrix: 2 × 2 of type dbl\n",
       "\n",
       "| <!--/--> | w | z |\n",
       "|---|---|---|\n",
       "| w | 1.0000000 | 0.7479985 |\n",
       "| z | 0.7479985 | 1.0000000 |\n",
       "\n"
      ],
      "text/plain": [
       "  w         z        \n",
       "w 1.0000000 0.7479985\n",
       "z 0.7479985 1.0000000"
      ]
     },
     "metadata": {},
     "output_type": "display_data"
    }
   ],
   "source": [
    "cor(data[,c(\"w\",\"z\")], use=\"complete\")"
   ]
  },
  {
   "cell_type": "markdown",
   "id": "f5207360-b5c3-4a7b-8535-07294134c9b4",
   "metadata": {},
   "source": [
    "## Heteroscedasticidad\n",
    "\n",
    "Para evaluar este supuesto se plantea el test “studentized Breusch-Pagan” localizado en la librería de R “lmtest” el cual consiste en estimar el modelo inicial, comprobar si el modelo presenta heterocedasticidad, posteriormente calcular los errores del modelo y los determinantes de los errores mediante la incorporación de variables independientes (Roldán et al., 2016).\n",
    "\n",
    "De manera específica el modelo se presenta de la siguiente manera:\n",
    "\n",
    "![](imagenes/Breush-pagam.jpg)"
   ]
  },
  {
   "cell_type": "code",
   "execution_count": 15,
   "id": "f7984d5c-f982-4248-8035-cd34517a5c98",
   "metadata": {},
   "outputs": [
    {
     "data": {
      "text/plain": [
       "\n",
       "\tstudentized Breusch-Pagan test\n",
       "\n",
       "data:  model_3\n",
       "BP = 14.924, df = 7, p-value = 0.03698\n"
      ]
     },
     "metadata": {},
     "output_type": "display_data"
    }
   ],
   "source": [
    "bptest(model_3)"
   ]
  },
  {
   "cell_type": "markdown",
   "id": "b217d204-5482-4fb3-a4ee-f588201f74a1",
   "metadata": {},
   "source": [
    "Los valores del test estadístico, contradicen el supuesto de homocedasticidad, dado que el P-value es menor a 0.05 rechazando la hipótesis nula $H_0$, demostrando que el modelo presenta problemas de Heteroscedasticidad, por lo que la varianza de los errores aleatorios no es constante. Para cumplir este supuesto se corregirá el modelo mediante errores robustos estandarizados.\n",
    "\n",
    "## Estimación del Modelo Mediante Errores Estándares Robustos"
   ]
  },
  {
   "cell_type": "code",
   "execution_count": 16,
   "id": "eab582d6-71f7-41c5-b3d8-4a7d75ef1e28",
   "metadata": {},
   "outputs": [
    {
     "data": {
      "text/plain": [
       "\n",
       "t test of coefficients:\n",
       "\n",
       "              Estimate Std. Error  t value  Pr(>|t|)    \n",
       "(Intercept) 14.1061586  0.0991694 142.2430 < 2.2e-16 ***\n",
       "q           -0.1257248  0.0482777  -2.6042  0.009567 ** \n",
       "f            0.2490846  0.0479859   5.1908 3.405e-07 ***\n",
       "x1          -0.5176395  0.0645221  -8.0227 1.276e-14 ***\n",
       "x2          -0.3715330  0.0562721  -6.6024 1.352e-10 ***\n",
       "g            0.1556549  0.0453176   3.4348  0.000658 ***\n",
       "w            0.0091678  0.0031923   2.8718  0.004308 ** \n",
       "z            0.0080724  0.0041486   1.9458  0.052406 .  \n",
       "---\n",
       "Signif. codes:  0 '***' 0.001 '**' 0.01 '*' 0.05 '.' 0.1 ' ' 1\n"
      ]
     },
     "metadata": {},
     "output_type": "display_data"
    }
   ],
   "source": [
    "coeftest(model_3, vcov = vcovHC(model_3, type = \"HC0\"))"
   ]
  },
  {
   "cell_type": "markdown",
   "id": "f487fb2c-24da-4c66-b44b-b1812bbdf8ca",
   "metadata": {},
   "source": [
    "Como se puede apreciar en la tabla anterior, una vez corregido el modelo mediante el método de errores estándar robustos, se explica que ahora la experiencia ya no es significativa al $95%$ dado que su $P-Value$ es mayor a $0.05$, no obstante, sigue siendo significativa al $90$ y se toma por ser congruente con la teoría. Una vez corregido el supuesto de homocedasticidad, se evalúan las variables omitidas.\n"
   ]
  },
  {
   "cell_type": "code",
   "execution_count": 17,
   "id": "c58a8971-6232-43ea-8faa-fa88b0f49889",
   "metadata": {},
   "outputs": [
    {
     "data": {
      "text/plain": [
       "\n",
       "\tRESET test\n",
       "\n",
       "data:  model_3\n",
       "RESET = 0.24699, df1 = 2, df2 = 381, p-value = 0.7813\n"
      ]
     },
     "metadata": {},
     "output_type": "display_data"
    }
   ],
   "source": [
    "resettest(model_3)"
   ]
  },
  {
   "cell_type": "markdown",
   "id": "023811f6-4c82-4e1d-9d03-87bb48bbe509",
   "metadata": {},
   "source": [
    "Para la validación del modelo de regresión lineal múltiple se utilizó el test de Ramsey, el cual propone el siguiente supuesto:\n",
    "Formula que las variables independientes no están correlacionadas con el término del error.\n",
    "\n",
    "$cov(x,ε)=(x ε )=0$ \n",
    "\n",
    "Donde:\n",
    "\n",
    "$H_o$ El modelo no presenta problemas de variables omitidas  \n",
    "$H_a$ = El modelo presenta problemas de variables omitidas   \n",
    "\n",
    "\n",
    "Dado su $P-value$ no se rechaza la hipótesis nula, cumpliendo el supuesto de variables omitidas, por lo tanto, se puede afirmar estadísticamente que los estimadores de los parámetros  $\\hat{\\beta_0}$  son insesgados y eficientes. Demostrando que no existen omisiones de variables importantes o problemas de simultaneidad.\n",
    "\n",
    "\n",
    "# Interpretación de resultados \t\n",
    "\n",
    "Se seleciona el modelo 3, el cual fue estimado Mediante Errores Estándares Robustos\n",
    "\n",
    "el cual presenta la seguinete ecuación:\n",
    "\n",
    "### Modelo econométrico\n",
    "\n",
    "$$ Ln(Y)= \\hat{\\beta_0}+ \\hat{\\beta}_1Q+ \\hat{\\beta}_2F+ \\hat{\\beta}_3X_1+ \\hat{\\beta}_4X_2+ \\hat{\\beta}_5G+ \\hat{\\beta_6}W+ \\hat{\\beta_7}Z + \\epsilon_t $$\n",
    "\n",
    "\n",
    "### Modelo muestral\n",
    "\n",
    "$$\\hat{YLn}= \\hat{\\beta_0}+ \\hat{\\beta}_1Q+ \\hat{\\beta}_2F+ \\hat{\\beta}_3X_1+ \\hat{\\beta}_4X_2+ \\hat{\\beta}_5G_1+ \\hat{\\beta_6}W+ \\hat{\\beta_7}Z $$"
   ]
  },
  {
   "cell_type": "code",
   "execution_count": 18,
   "id": "3c323ccc-c271-41e9-b12f-dffd889da67e",
   "metadata": {},
   "outputs": [
    {
     "data": {
      "text/plain": [
       "\n",
       "t test of coefficients:\n",
       "\n",
       "              Estimate Std. Error  t value  Pr(>|t|)    \n",
       "(Intercept) 14.1061586  0.0991694 142.2430 < 2.2e-16 ***\n",
       "q           -0.1257248  0.0482777  -2.6042  0.009567 ** \n",
       "f            0.2490846  0.0479859   5.1908 3.405e-07 ***\n",
       "x1          -0.5176395  0.0645221  -8.0227 1.276e-14 ***\n",
       "x2          -0.3715330  0.0562721  -6.6024 1.352e-10 ***\n",
       "g            0.1556549  0.0453176   3.4348  0.000658 ***\n",
       "w            0.0091678  0.0031923   2.8718  0.004308 ** \n",
       "z            0.0080724  0.0041486   1.9458  0.052406 .  \n",
       "---\n",
       "Signif. codes:  0 '***' 0.001 '**' 0.01 '*' 0.05 '.' 0.1 ' ' 1\n"
      ]
     },
     "metadata": {},
     "output_type": "display_data"
    }
   ],
   "source": [
    "coeftest(model_3, vcov = vcovHC(model_3, type = \"HC0\"))"
   ]
  },
  {
   "cell_type": "markdown",
   "id": "8754031a-18bf-4ac7-b6f7-98200e73e58e",
   "metadata": {},
   "source": [
    "La ecuación resultante del modelo calculando con errores robustos presenta los siguientes estimados:\n",
    "\n",
    "$$\\hat{YLn}= 14.106158-0.125724*Q+ 0.2490846*F -0.5176395*X_1 -0.3715330*X_2-  0.1556549*G+0.0091678*W+0.0080724*Z$$\n",
    "Interpretación de resultados \n",
    "\n",
    "La anterior ecuación econométrica se plantea para determinar las interacciones entre las variables mencionadas en el estudio relacionadas con el ingreso de la PEA. Se aborda utilizando tres variables de tipo dummy, una variable categórica y dos variables continuas. Los resultados fueron los siguientes: \n",
    "\n",
    "●\tLa variable nivel de escolaridad influyó positivamente en los salarios de la PEA ocupada de Yopal Casanare con un nivel estadístico del $95%$ de confianza para el año 2021, considerando que, respecto a u sujeto con educación profesional, un técnico o tecnóloga gana un $37%$ menos y a su vez un individuo sin educación profesional o técnica percibe un 51% menos que un profesional.\n",
    "\n",
    "●\tSe encontró que en promedio el género masculino percibe un 15% más de ingresos respecto al femenino.\n",
    "\n",
    "●\tContrariamente a lo que a priori se podría esperar, el hecho de tener recomendación a la hora de adquirir un empleo, influye en un $12,5%$ de forma negativa, esto porque, al evaluar a un candidato para un cargo de alto nivel, esta variable es tomada en cuenta en menor medida.\n",
    "\n",
    "●\tLa variable escolaridad obtenida fuera del departamento, afecta positivamente al ingreso en un $24%$, esto tal vez explicado por la falta de oferta académica de educación superior, tanto en posgrados como en pregrados.\n",
    "\n",
    "●\tSe encontró que las variables experiencia y edad presentan crecimiento lineal positivo, afectando al ingreso en $0,91%$ y $0,81%$ respectivamente, por cada unidad adicional. \n",
    "\n",
    "\n",
    "## nálisis y/o Simulación de escenarios\n",
    "\n",
    "Función de regresión múltiple:\n",
    "\n",
    "$$\\hat{YLn}= \\hat{\\beta_0}+ \\hat{\\beta}_1Q+ \\hat{\\beta}_2F+ \\hat{\\beta}_3X_1+ \\hat{\\beta}_4X_2+ \\hat{\\beta}_5G_1+ \\hat{\\beta_6}W+ \\hat{\\beta_7}Z $$\n",
    "Donde:\n",
    "\n",
    "$$\\hat{YLn}= 14.106158-0.125724*Q+ 0.2490846*F -0.5176395*X_1 -0.3715330*X_2-  0.1556549*G+0.0091678*W+0.0080724*Z$$\n",
    "Así mismo \n",
    "\n",
    "$$\\hat{YLn}= 14.1061586-0.1257248*Q- 0.5176395*X_1-0.3715330*X_2+0.2490846*F+ 0.1556549*G+ 0.0091678*W+0.0080724*Z $$ \n",
    "$$\\hat{YLn} = b$$\n",
    "\n",
    "$$ e^(\\hat{YLn})= e^b $$\n",
    "\n",
    "$$\\hat{Y} = c$$\n",
    "\n",
    "Teniendo en cuenta la relación anterior, se calculará el ingreso promedio que un individuo puede obtener, dadas ciertas características:\n",
    "\n",
    "●\tEl ingreso promedio para un joven de género masculino, de alrededor de 18 años, recientemente graduado de bachiller, sin experiencia laboral y con recomendación laboral:"
   ]
  },
  {
   "cell_type": "code",
   "execution_count": 19,
   "id": "084521b9-42d5-4f38-92b8-a28b2ec79865",
   "metadata": {},
   "outputs": [
    {
     "data": {
      "text/html": [
       "959628.778885748"
      ],
      "text/latex": [
       "959628.778885748"
      ],
      "text/markdown": [
       "959628.778885748"
      ],
      "text/plain": [
       "[1] 959628.8"
      ]
     },
     "metadata": {},
     "output_type": "display_data"
    }
   ],
   "source": [
    "m_18 =14.1061586-0.1257248*(1)-0.5176395*1+ 0.1556549*1 + 0.0091678*(17)\n",
    "Ingreso_bachiller_m_18 =exp(m_18)\n",
    "Ingreso_bachiller_m_18"
   ]
  },
  {
   "cell_type": "markdown",
   "id": "98d87958-31d5-42e5-a995-42f30c1416fb",
   "metadata": {},
   "source": [
    "●\tEl ingreso promedio para un individuo de género femenino de alrededor de 17 años, recientemente graduada de bachiller, sin experiencia laboral y con recomendación laboral:"
   ]
  },
  {
   "cell_type": "code",
   "execution_count": 20,
   "id": "224a66da-2048-405d-b5f9-7d8c973b458d",
   "metadata": {},
   "outputs": [
    {
     "data": {
      "text/html": [
       "821302.603748288"
      ],
      "text/latex": [
       "821302.603748288"
      ],
      "text/markdown": [
       "821302.603748288"
      ],
      "text/plain": [
       "[1] 821302.6"
      ]
     },
     "metadata": {},
     "output_type": "display_data"
    }
   ],
   "source": [
    "f_18 =14.1061586-0.1257248*(1)-0.5176395*1+ 0.0091678*(17)\n",
    "ingreso_bachiller_f_18 = exp(f_18)\n",
    "ingreso_bachiller_f_18"
   ]
  },
  {
   "cell_type": "markdown",
   "id": "33aa0a6d-d84d-4ab9-8fe2-32efb7800ea4",
   "metadata": {},
   "source": [
    "●\tSe halla el ingreso promedio que podría obtener un individuo que presente las condiciones mayormente favorables en la ciudad de Yopal, este de género masculino, contando con 40 años de edad, profesional y con 10 años de experiencia laboral:"
   ]
  },
  {
   "cell_type": "code",
   "execution_count": 21,
   "id": "29ec27b7-d6db-454f-94a6-3f23d79d834f",
   "metadata": {},
   "outputs": [
    {
     "data": {
      "text/html": [
       "3135609.40274815"
      ],
      "text/latex": [
       "3135609.40274815"
      ],
      "text/markdown": [
       "3135609.40274815"
      ],
      "text/plain": [
       "[1] 3135609"
      ]
     },
     "metadata": {},
     "output_type": "display_data"
    }
   ],
   "source": [
    "profesional_m_40 = 14.1061586+ 0.2490846*(1)+ 0.1556549*(1)+ 0.0091678*(40)+ 0.0080724*(10)\n",
    "ingreso_profesional_m_40 = exp(profesional_m_40 )\n",
    "ingreso_profesional_m_40"
   ]
  },
  {
   "cell_type": "markdown",
   "id": "7636810f-66cd-457f-b684-57a7a4b287f1",
   "metadata": {},
   "source": [
    "●\tSe halla el ingreso promedio que podría obtener un individuo que presente las condiciones mayormente favorables en la ciudad de Yopal, en este caso de género femenino, contando con 40 años de edad, profesional y con 10 años de experiencia:"
   ]
  },
  {
   "cell_type": "code",
   "execution_count": 22,
   "id": "ae04aefb-b134-4e3d-875f-350bbd30b6ac",
   "metadata": {},
   "outputs": [
    {
     "data": {
      "text/html": [
       "2683625.40127747"
      ],
      "text/latex": [
       "2683625.40127747"
      ],
      "text/markdown": [
       "2683625.40127747"
      ],
      "text/plain": [
       "[1] 2683625"
      ]
     },
     "metadata": {},
     "output_type": "display_data"
    }
   ],
   "source": [
    "profesional_f_40 = 14.1061586+ 0.2490846*(1)+ 0.0091678*(40)+ 0.0080724*(10)\n",
    "ingreso_profesional_f_40 = exp(profesional_f_40)\n",
    "ingreso_profesional_f_40"
   ]
  },
  {
   "cell_type": "markdown",
   "id": "628cfb46-81b3-4e1b-89b4-a4ad9a966054",
   "metadata": {},
   "source": [
    "### Resumen de análisis y/o simulación de escenarios."
   ]
  },
  {
   "cell_type": "raw",
   "id": "dff1e47f-7cfe-40c3-a92c-7848a74e646a",
   "metadata": {},
   "source": [
    "| Género | Edad | Educación   | Experiencia | Recomendación | Ingreso estimado  |\n",
    "|--------|------|-------------|-------------|---------------|-------------------|\n",
    "| M      | 18   | Bachiller   | 0 años      | Con           | $959,628.80       |\n",
    "| F      | 18   | Bachiller   | 0 años      | Con           | $821,302.60       |\n",
    "| M      | 40   | Profesional | 10 años     | Sin           | $3,135,609.00     |\n",
    "| F      | 40   | Profesional | 10 años     | Sin           | $26,836,255.00    |\n"
   ]
  },
  {
   "cell_type": "markdown",
   "id": "aeed599c-1b42-40f5-923a-f0fa59b51300",
   "metadata": {},
   "source": [
    "# Conclusiones \n",
    "\n",
    "Como resultado del presente estudio se encontró que la variable nivel de escolaridad, influyó positivamente en los salarios de la PEA ocupada de Yopal Casanare con un nivel estadístico del 95% de confianza para el año 2021, considerando que, respecto a u sujeto con educación profesional, un técnico o tecnóloga gana un 37% menos y a su vez un individuo sin educación profesional o técnica percibe un 51% menos que un profesional.\n",
    "\n",
    "Por otra parte, se concluye que, la edad del empleado junto con los años de experiencia laboral marca resultados positivos en el nivel de ingresos, esta última cuenta con un nivel de significancia del 90% y mediante inferencias se demostró que el ingreso es afectado en un 0,81% y 0,91% por cada año de edad y experiencia obtenido por el trabajador, respectivamente.\n",
    "En cuanto a la variable género, se encontró una diferenciación salarial de alrededor del 15% a favor del género masculino, evidenciándose una posible desventaja para el género femenino en cuanto a la remuneración se refiere, es decir, por un millón de pesos que un individuo de género masculino recibe, una mujer recibiría $850.000 aproximadamente.\n",
    "\n",
    "Adicionalmente se logró determinar que el canal de búsqueda o recomendación presenta un impacto negativo del 12,5% sobre el salario de la PEA ocupada en Yopal, esto con un nivel de significancia estadística del 95%, lo que explica que, por un millón de pesos que reciba cualquier individuo sin recomendación, un individuo diferente con recomendación y las mismas características - ceteris paribus - obtendrá $875.000.\n",
    "\n",
    "Finalmente, se estimó que la escolaridad obtenida por fuera del departamento, influyó un 24,9% positivamente en los salarios de la PEA, lo que significa, por un millón de pesos que gana un individuo que obtuvo todos sus estudios dentro del departamento, otro individuo con las mismas características, pero que realizó sus estudios por fuera del departamento ganaría $1´250.000.\n"
   ]
  }
 ],
 "metadata": {
  "kernelspec": {
   "display_name": "R",
   "language": "R",
   "name": "ir"
  },
  "language_info": {
   "codemirror_mode": "r",
   "file_extension": ".r",
   "mimetype": "text/x-r-source",
   "name": "R",
   "pygments_lexer": "r",
   "version": "4.4.1"
  }
 },
 "nbformat": 4,
 "nbformat_minor": 5
}
